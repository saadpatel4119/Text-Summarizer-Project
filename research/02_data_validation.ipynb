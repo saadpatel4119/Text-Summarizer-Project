{
 "cells": [
  {
   "cell_type": "code",
   "execution_count": 1,
   "id": "cec7f63f",
   "metadata": {},
   "outputs": [],
   "source": [
    "import os"
   ]
  },
  {
   "cell_type": "code",
   "execution_count": 4,
   "id": "2a1d8f55",
   "metadata": {},
   "outputs": [
    {
     "data": {
      "text/plain": [
       "'c:\\\\Users\\\\saadp\\\\Desktop\\\\Inquizty_WorkDone\\\\Others\\\\Text-Summarizer-Project'"
      ]
     },
     "execution_count": 4,
     "metadata": {},
     "output_type": "execute_result"
    }
   ],
   "source": [
    "%pwd"
   ]
  },
  {
   "cell_type": "code",
   "execution_count": 3,
   "id": "d4e4cdac",
   "metadata": {},
   "outputs": [],
   "source": [
    "os.chdir(\"../\")"
   ]
  },
  {
   "cell_type": "code",
   "execution_count": 5,
   "id": "70e005f6",
   "metadata": {},
   "outputs": [],
   "source": [
    "from dataclasses import dataclass\n",
    "from pathlib import Path\n",
    "\n",
    "@dataclass(frozen=True)\n",
    "class DataValidationConfig:\n",
    "    root_dir: Path\n",
    "    status_file: str\n",
    "    ALL_REQUIREMENTS_FILE: list"
   ]
  },
  {
   "cell_type": "code",
   "execution_count": 6,
   "id": "62ddc070",
   "metadata": {},
   "outputs": [],
   "source": [
    "from textSummarizer.constants import *\n",
    "from textSummarizer.utils.common import read_yaml, create_directories"
   ]
  },
  {
   "cell_type": "code",
   "execution_count": 7,
   "id": "90c2e7ba",
   "metadata": {},
   "outputs": [],
   "source": [
    "class ConfigurationManager:\n",
    "    def __init__(self,\n",
    "                 config_filepath = CONFIG_FILE_PATH,\n",
    "                 params_filepath = PARAMS_FILE_PATH):\n",
    "        self.config = read_yaml(config_filepath)\n",
    "        self.params = read_yaml(params_filepath)\n",
    "        create_directories([Path(self.config.artifacts_root)])\n",
    "        \n",
    "    def get_data_validation_config(self) -> DataValidationConfig:\n",
    "        config = self.config.data_validation\n",
    "        \n",
    "        create_directories([Path(config.root_dir)])\n",
    "        \n",
    "        data_validation_config = DataValidationConfig(\n",
    "            root_dir = Path(config.root_dir),\n",
    "            status_file = config.status_file,\n",
    "            ALL_REQUIREMENTS_FILE = config.ALL_REQUIREMENTS_FILE\n",
    "        )\n",
    "        \n",
    "        return data_validation_config"
   ]
  },
  {
   "cell_type": "code",
   "execution_count": 9,
   "id": "3fe6b9df",
   "metadata": {},
   "outputs": [],
   "source": [
    "import os\n",
    "from textSummarizer.logging import logger"
   ]
  },
  {
   "cell_type": "code",
   "execution_count": 15,
   "id": "dcbf738c",
   "metadata": {},
   "outputs": [],
   "source": [
    "class DataValidation:\n",
    "    def __init__(self, config: DataValidationConfig):\n",
    "        self.config = config\n",
    "        \n",
    "    def validate_all_files(self) -> bool:\n",
    "        try:\n",
    "            logger.info(\"Starting all files validation\")\n",
    "            status = True\n",
    "            \n",
    "            for file in self.config.ALL_REQUIREMENTS_FILE:\n",
    "                file_path = os.path.join(self.config.root_dir, file)\n",
    "                if not os.path.exists(file_path):\n",
    "                    logger.info(f\"File: {file} is not present\")\n",
    "                    status = False\n",
    "            \n",
    "            if status:\n",
    "                logger.info(\"All files are present\")\n",
    "            else:\n",
    "                logger.info(\"Some files are missing\")\n",
    "            \n",
    "            with open(self.config.status_file, 'w') as f:\n",
    "                f.write(str(status))\n",
    "                \n",
    "            logger.info(\"Completed all files validation\")\n",
    "            return status\n",
    "        except Exception as e:\n",
    "            raise e"
   ]
  },
  {
   "cell_type": "code",
   "execution_count": 17,
   "id": "c8db6243",
   "metadata": {},
   "outputs": [
    {
     "name": "stdout",
     "output_type": "stream",
     "text": [
      "[2025-09-06 16:56:31,560 - INFO - common - YAML file config\\config.yaml loaded successfully.]\n",
      "[2025-09-06 16:56:31,564 - INFO - common - YAML file params.yaml loaded successfully.]\n",
      "[2025-09-06 16:56:31,566 - INFO - common - Created directory at: artifacts]\n",
      "[2025-09-06 16:56:31,568 - INFO - common - Created directory at: artifacts\\data_validation]\n",
      "[2025-09-06 16:56:31,569 - INFO - 2800483835 - Starting all files validation]\n",
      "[2025-09-06 16:56:31,571 - INFO - 2800483835 - File: train is not present]\n",
      "[2025-09-06 16:56:31,572 - INFO - 2800483835 - File: test is not present]\n",
      "[2025-09-06 16:56:31,573 - INFO - 2800483835 - File: validation is not present]\n",
      "[2025-09-06 16:56:31,574 - INFO - 2800483835 - Some files are missing]\n",
      "[2025-09-06 16:56:31,576 - INFO - 2800483835 - Completed all files validation]\n"
     ]
    }
   ],
   "source": [
    "try:\n",
    "    config = ConfigurationManager()\n",
    "    data_validation_config = config.get_data_validation_config()\n",
    "    data_validation = DataValidation(config = data_validation_config)\n",
    "    data_validation.validate_all_files()\n",
    "except Exception as e:\n",
    "    raise e"
   ]
  },
  {
   "cell_type": "code",
   "execution_count": null,
   "id": "16665406",
   "metadata": {},
   "outputs": [],
   "source": []
  }
 ],
 "metadata": {
  "kernelspec": {
   "display_name": "textS",
   "language": "python",
   "name": "python3"
  },
  "language_info": {
   "codemirror_mode": {
    "name": "ipython",
    "version": 3
   },
   "file_extension": ".py",
   "mimetype": "text/x-python",
   "name": "python",
   "nbconvert_exporter": "python",
   "pygments_lexer": "ipython3",
   "version": "3.12.0"
  }
 },
 "nbformat": 4,
 "nbformat_minor": 5
}
